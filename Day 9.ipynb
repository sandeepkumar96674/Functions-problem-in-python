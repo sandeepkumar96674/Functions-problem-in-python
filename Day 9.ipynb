{
 "cells": [
  {
   "cell_type": "code",
   "execution_count": 2,
   "id": "d2cc30fb",
   "metadata": {},
   "outputs": [
    {
     "name": "stdout",
     "output_type": "stream",
     "text": [
      "Day 9\n"
     ]
    }
   ],
   "source": [
    "print(\"Day 9\")"
   ]
  },
  {
   "cell_type": "code",
   "execution_count": 7,
   "id": "7db79c84",
   "metadata": {},
   "outputs": [],
   "source": [
    "def even_odd(num):\n",
    "    if num%2==0:\n",
    "        print(\"Even\")\n",
    "    else:\n",
    "        print(\"odd\")"
   ]
  },
  {
   "cell_type": "code",
   "execution_count": 8,
   "id": "a28a3b25",
   "metadata": {},
   "outputs": [
    {
     "name": "stdout",
     "output_type": "stream",
     "text": [
      "Even\n"
     ]
    }
   ],
   "source": [
    "even_odd(10)"
   ]
  },
  {
   "cell_type": "code",
   "execution_count": 9,
   "id": "b0063b85",
   "metadata": {},
   "outputs": [
    {
     "name": "stdout",
     "output_type": "stream",
     "text": [
      "odd\n"
     ]
    }
   ],
   "source": [
    "even_odd(15)"
   ]
  },
  {
   "cell_type": "code",
   "execution_count": 10,
   "id": "f55a82e7",
   "metadata": {},
   "outputs": [],
   "source": [
    "#print vs return\n",
    "def hello():\n",
    "    print(\"Hello World\")"
   ]
  },
  {
   "cell_type": "code",
   "execution_count": 11,
   "id": "a5c09c8b",
   "metadata": {},
   "outputs": [
    {
     "name": "stdout",
     "output_type": "stream",
     "text": [
      "Hello World\n"
     ]
    }
   ],
   "source": [
    "hello()"
   ]
  },
  {
   "cell_type": "code",
   "execution_count": 12,
   "id": "d91c35f1",
   "metadata": {},
   "outputs": [
    {
     "name": "stdout",
     "output_type": "stream",
     "text": [
      "Hello World\n"
     ]
    }
   ],
   "source": [
    "val=hello()"
   ]
  },
  {
   "cell_type": "code",
   "execution_count": 13,
   "id": "72098bdc",
   "metadata": {},
   "outputs": [
    {
     "name": "stdout",
     "output_type": "stream",
     "text": [
      "None\n"
     ]
    }
   ],
   "source": [
    "print(val)"
   ]
  },
  {
   "cell_type": "code",
   "execution_count": 14,
   "id": "4194d5d6",
   "metadata": {},
   "outputs": [],
   "source": [
    "def hello():\n",
    "    return \"Hello World\""
   ]
  },
  {
   "cell_type": "code",
   "execution_count": 15,
   "id": "76d6969a",
   "metadata": {},
   "outputs": [
    {
     "data": {
      "text/plain": [
       "'Hello World'"
      ]
     },
     "execution_count": 15,
     "metadata": {},
     "output_type": "execute_result"
    }
   ],
   "source": [
    "hello()"
   ]
  },
  {
   "cell_type": "code",
   "execution_count": 16,
   "id": "54d3dc53",
   "metadata": {},
   "outputs": [],
   "source": [
    "val1=hello()"
   ]
  },
  {
   "cell_type": "code",
   "execution_count": 17,
   "id": "8b517f5d",
   "metadata": {},
   "outputs": [
    {
     "name": "stdout",
     "output_type": "stream",
     "text": [
      "Hello World\n"
     ]
    }
   ],
   "source": [
    "print(val1)"
   ]
  },
  {
   "cell_type": "code",
   "execution_count": 18,
   "id": "85c2e39a",
   "metadata": {},
   "outputs": [],
   "source": [
    "def add_num(num1,num2):\n",
    "    return num1+num2"
   ]
  },
  {
   "cell_type": "code",
   "execution_count": 19,
   "id": "8640c00a",
   "metadata": {},
   "outputs": [],
   "source": [
    "add=add_num(1,2)"
   ]
  },
  {
   "cell_type": "code",
   "execution_count": 20,
   "id": "dcd0ad54",
   "metadata": {},
   "outputs": [
    {
     "name": "stdout",
     "output_type": "stream",
     "text": [
      "3\n"
     ]
    }
   ],
   "source": [
    "print(add)"
   ]
  },
  {
   "cell_type": "code",
   "execution_count": 21,
   "id": "f52a1216",
   "metadata": {},
   "outputs": [],
   "source": [
    "#positional argument and keyword argument\n",
    "def new(name,age=20):\n",
    "    print(\"My name is {} and age is {}\".format(name,age))\n",
    "    "
   ]
  },
  {
   "cell_type": "code",
   "execution_count": 22,
   "id": "cb66b118",
   "metadata": {},
   "outputs": [
    {
     "name": "stdout",
     "output_type": "stream",
     "text": [
      "My name is Sandeep and age is 20\n"
     ]
    }
   ],
   "source": [
    "new(\"Sandeep\")"
   ]
  },
  {
   "cell_type": "code",
   "execution_count": 23,
   "id": "15b52f1b",
   "metadata": {},
   "outputs": [],
   "source": [
    "def another(*args,**kwargs):\n",
    "    print(args)\n",
    "    print(kwargs)"
   ]
  },
  {
   "cell_type": "code",
   "execution_count": 24,
   "id": "2611867a",
   "metadata": {},
   "outputs": [
    {
     "name": "stdout",
     "output_type": "stream",
     "text": [
      "('Sandeep', 'Kumar')\n",
      "{'Age': 19, 'DOB': 111}\n"
     ]
    }
   ],
   "source": [
    "another(\"Sandeep\",\"Kumar\",Age=19,DOB=111)"
   ]
  },
  {
   "cell_type": "code",
   "execution_count": 25,
   "id": "b865e43a",
   "metadata": {},
   "outputs": [],
   "source": [
    "lst=[\"Sandeep\",\"Kumar\"]\n",
    "dic_args={'Age': 19, 'DOB': 111}"
   ]
  },
  {
   "cell_type": "code",
   "execution_count": 26,
   "id": "a7e060db",
   "metadata": {},
   "outputs": [
    {
     "name": "stdout",
     "output_type": "stream",
     "text": [
      "(['Sandeep', 'Kumar'], {'Age': 19, 'DOB': 111})\n",
      "{}\n"
     ]
    }
   ],
   "source": [
    "another(lst,dic_args)"
   ]
  },
  {
   "cell_type": "code",
   "execution_count": 27,
   "id": "eed24921",
   "metadata": {},
   "outputs": [
    {
     "name": "stdout",
     "output_type": "stream",
     "text": [
      "('Sandeep', 'Kumar')\n",
      "{'Age': 19, 'DOB': 111}\n"
     ]
    }
   ],
   "source": [
    "another(*lst,**dic_args)"
   ]
  },
  {
   "cell_type": "code",
   "execution_count": 28,
   "id": "87f1f950",
   "metadata": {},
   "outputs": [],
   "source": [
    "lst=[1,2,3,4,5,6,7]"
   ]
  },
  {
   "cell_type": "code",
   "execution_count": 29,
   "id": "7c48ee2d",
   "metadata": {},
   "outputs": [],
   "source": [
    "def evenoddsum(lst):\n",
    "    even_sum=0\n",
    "    odd_sum=0\n",
    "    for i in lst:\n",
    "        if i%2==0:\n",
    "            even_sum+=i\n",
    "        else:\n",
    "            odd_sum+=i\n",
    "    return even_sum,odd_sum        "
   ]
  },
  {
   "cell_type": "code",
   "execution_count": 30,
   "id": "4b49f708",
   "metadata": {},
   "outputs": [
    {
     "data": {
      "text/plain": [
       "(12, 16)"
      ]
     },
     "execution_count": 30,
     "metadata": {},
     "output_type": "execute_result"
    }
   ],
   "source": [
    "evenoddsum(lst)"
   ]
  },
  {
   "cell_type": "markdown",
   "id": "ede67b72",
   "metadata": {},
   "source": [
    "## Map Function in Python"
   ]
  },
  {
   "cell_type": "code",
   "execution_count": 39,
   "id": "0e33cb6d",
   "metadata": {},
   "outputs": [],
   "source": [
    "def odd_even(num):\n",
    "    if num%2==0:\n",
    "        return \"The number {} is Even\".format(num)\n",
    "    else:\n",
    "        return \"The number {} is Odd\".format(num)"
   ]
  },
  {
   "cell_type": "code",
   "execution_count": 40,
   "id": "80252cc5",
   "metadata": {},
   "outputs": [
    {
     "data": {
      "text/plain": [
       "'The number 15 is Odd'"
      ]
     },
     "execution_count": 40,
     "metadata": {},
     "output_type": "execute_result"
    }
   ],
   "source": [
    "odd_even(15)"
   ]
  },
  {
   "cell_type": "code",
   "execution_count": 41,
   "id": "bc2c6bbd",
   "metadata": {},
   "outputs": [],
   "source": [
    "lst=[1,2,3,4,5,6,7,8,12,13,15,111]"
   ]
  },
  {
   "cell_type": "code",
   "execution_count": 44,
   "id": "4956bf8d",
   "metadata": {},
   "outputs": [
    {
     "data": {
      "text/plain": [
       "['The number 1 is Odd',\n",
       " 'The number 2 is Even',\n",
       " 'The number 3 is Odd',\n",
       " 'The number 4 is Even',\n",
       " 'The number 5 is Odd',\n",
       " 'The number 6 is Even',\n",
       " 'The number 7 is Odd',\n",
       " 'The number 8 is Even',\n",
       " 'The number 12 is Even',\n",
       " 'The number 13 is Odd',\n",
       " 'The number 15 is Odd',\n",
       " 'The number 111 is Odd']"
      ]
     },
     "execution_count": 44,
     "metadata": {},
     "output_type": "execute_result"
    }
   ],
   "source": [
    "list(map(odd_even,lst))"
   ]
  },
  {
   "cell_type": "markdown",
   "id": "b66a1de3",
   "metadata": {},
   "source": [
    "## Lambda Function\n",
    "\n",
    "Also known as Anonymous function\n",
    "\n",
    "A function with no name"
   ]
  },
  {
   "cell_type": "code",
   "execution_count": 45,
   "id": "8c76cb42",
   "metadata": {},
   "outputs": [],
   "source": [
    "def add(num1,num2):\n",
    "    return num1+num2"
   ]
  },
  {
   "cell_type": "code",
   "execution_count": 46,
   "id": "090fc7b8",
   "metadata": {},
   "outputs": [
    {
     "data": {
      "text/plain": [
       "70"
      ]
     },
     "execution_count": 46,
     "metadata": {},
     "output_type": "execute_result"
    }
   ],
   "source": [
    "add(20,50)"
   ]
  },
  {
   "cell_type": "code",
   "execution_count": 48,
   "id": "2ce7326a",
   "metadata": {},
   "outputs": [],
   "source": [
    "addition=lambda num1,num2:num1+num2"
   ]
  },
  {
   "cell_type": "code",
   "execution_count": 49,
   "id": "7aed41c2",
   "metadata": {},
   "outputs": [
    {
     "data": {
      "text/plain": [
       "25"
      ]
     },
     "execution_count": 49,
     "metadata": {},
     "output_type": "execute_result"
    }
   ],
   "source": [
    "addition(12,13)"
   ]
  },
  {
   "cell_type": "code",
   "execution_count": 50,
   "id": "022cab05",
   "metadata": {},
   "outputs": [],
   "source": [
    "def evenodd(num):\n",
    "    if num%2==0:\n",
    "        print(\"Even\")\n",
    "    else:\n",
    "        print(\"odd\")"
   ]
  },
  {
   "cell_type": "code",
   "execution_count": 51,
   "id": "3b83b763",
   "metadata": {},
   "outputs": [
    {
     "name": "stdout",
     "output_type": "stream",
     "text": [
      "Even\n"
     ]
    }
   ],
   "source": [
    "evenodd(2)"
   ]
  },
  {
   "cell_type": "code",
   "execution_count": 52,
   "id": "717f67de",
   "metadata": {},
   "outputs": [],
   "source": [
    "even=lambda a:a%2==0"
   ]
  },
  {
   "cell_type": "code",
   "execution_count": 53,
   "id": "fb173453",
   "metadata": {},
   "outputs": [
    {
     "data": {
      "text/plain": [
       "False"
      ]
     },
     "execution_count": 53,
     "metadata": {},
     "output_type": "execute_result"
    }
   ],
   "source": [
    "even(5)"
   ]
  },
  {
   "cell_type": "code",
   "execution_count": 54,
   "id": "594b344b",
   "metadata": {},
   "outputs": [
    {
     "data": {
      "text/plain": [
       "True"
      ]
     },
     "execution_count": 54,
     "metadata": {},
     "output_type": "execute_result"
    }
   ],
   "source": [
    "even(4)"
   ]
  },
  {
   "cell_type": "code",
   "execution_count": 56,
   "id": "febdf3e9",
   "metadata": {},
   "outputs": [],
   "source": [
    "def addition(num1,num2,num3):\n",
    "    return num1+num2+num3"
   ]
  },
  {
   "cell_type": "code",
   "execution_count": 57,
   "id": "10010b83",
   "metadata": {},
   "outputs": [
    {
     "data": {
      "text/plain": [
       "15"
      ]
     },
     "execution_count": 57,
     "metadata": {},
     "output_type": "execute_result"
    }
   ],
   "source": [
    "addition(1,5,9)"
   ]
  },
  {
   "cell_type": "code",
   "execution_count": 58,
   "id": "c188f6c7",
   "metadata": {},
   "outputs": [],
   "source": [
    "simple=lambda num1,num2,num3:num1+num2+num3"
   ]
  },
  {
   "cell_type": "code",
   "execution_count": 59,
   "id": "987694ae",
   "metadata": {},
   "outputs": [
    {
     "data": {
      "text/plain": [
       "15"
      ]
     },
     "execution_count": 59,
     "metadata": {},
     "output_type": "execute_result"
    }
   ],
   "source": [
    "simple(1,5,9)"
   ]
  },
  {
   "cell_type": "markdown",
   "id": "91529eba",
   "metadata": {},
   "source": [
    "## Filter Function in Python"
   ]
  },
  {
   "cell_type": "code",
   "execution_count": 69,
   "id": "2a07627b",
   "metadata": {},
   "outputs": [],
   "source": [
    "def after(num):\n",
    "    if num%2==0:\n",
    "        return True"
   ]
  },
  {
   "cell_type": "code",
   "execution_count": 70,
   "id": "c5906695",
   "metadata": {},
   "outputs": [],
   "source": [
    "lst=[1,2,3,4,5,6,7,8,9,0]"
   ]
  },
  {
   "cell_type": "code",
   "execution_count": 75,
   "id": "d607f9d3",
   "metadata": {},
   "outputs": [
    {
     "data": {
      "text/plain": [
       "[2, 4, 6, 8, 0]"
      ]
     },
     "execution_count": 75,
     "metadata": {},
     "output_type": "execute_result"
    }
   ],
   "source": [
    "list(filter(after,lst))"
   ]
  },
  {
   "cell_type": "code",
   "execution_count": 77,
   "id": "e8aa6071",
   "metadata": {},
   "outputs": [
    {
     "data": {
      "text/plain": [
       "[2, 4, 6, 8, 0]"
      ]
     },
     "execution_count": 77,
     "metadata": {},
     "output_type": "execute_result"
    }
   ],
   "source": [
    "list(filter(lambda num:num%2==0,lst))"
   ]
  },
  {
   "cell_type": "code",
   "execution_count": 78,
   "id": "5495e245",
   "metadata": {},
   "outputs": [
    {
     "data": {
      "text/plain": [
       "[False, True, False, True, False, True, False, True, False, True]"
      ]
     },
     "execution_count": 78,
     "metadata": {},
     "output_type": "execute_result"
    }
   ],
   "source": [
    "list(map(lambda num:num%2==0,lst))"
   ]
  }
 ],
 "metadata": {
  "kernelspec": {
   "display_name": "Python 3 (ipykernel)",
   "language": "python",
   "name": "python3"
  },
  "language_info": {
   "codemirror_mode": {
    "name": "ipython",
    "version": 3
   },
   "file_extension": ".py",
   "mimetype": "text/x-python",
   "name": "python",
   "nbconvert_exporter": "python",
   "pygments_lexer": "ipython3",
   "version": "3.9.12"
  }
 },
 "nbformat": 4,
 "nbformat_minor": 5
}
